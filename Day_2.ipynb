{
  "nbformat": 4,
  "nbformat_minor": 0,
  "metadata": {
    "colab": {
      "name": "Day 2",
      "provenance": [],
      "collapsed_sections": [],
      "authorship_tag": "ABX9TyPwOv7GjFbuI4pdUItq45/B",
      "include_colab_link": true
    },
    "kernelspec": {
      "name": "python3",
      "display_name": "Python 3"
    }
  },
  "cells": [
    {
      "cell_type": "markdown",
      "metadata": {
        "id": "view-in-github",
        "colab_type": "text"
      },
      "source": [
        "<a href=\"https://colab.research.google.com/github/Arpitpattiwar/Letsupgrade--Data-Science/blob/main/Day_2.ipynb\" target=\"_parent\"><img src=\"https://colab.research.google.com/assets/colab-badge.svg\" alt=\"Open In Colab\"/></a>"
      ]
    },
    {
      "cell_type": "code",
      "metadata": {
        "id": "AwKIVqRTh_eU",
        "outputId": "d84d3612-3eb0-4ffe-fd33-74ad4de1b803",
        "colab": {
          "base_uri": "https://localhost:8080/"
        }
      },
      "source": [
        "#Q1\n",
        "list = []\n",
        "for i in range(10):\n",
        "\tnumber = int(input())\n",
        "\tif number%2==0:\n",
        "\t\tlist.append(number)\n",
        "print(list)"
      ],
      "execution_count": null,
      "outputs": [
        {
          "output_type": "stream",
          "text": [
            "4\n",
            "23\n",
            "33\n",
            "1\n",
            "4\n",
            "87\n",
            "65\n",
            "28\n",
            "77\n",
            "46\n",
            "[4, 4, 28, 46]\n"
          ],
          "name": "stdout"
        }
      ]
    },
    {
      "cell_type": "code",
      "metadata": {
        "id": "EZKDysakiIL7",
        "outputId": "faab6965-6bd6-4294-ae25-7b1b636b00ac",
        "colab": {
          "base_uri": "https://localhost:8080/"
        }
      },
      "source": [
        "#Q2\n",
        "\"List comprehensions are a way of achieving Pythonic one-liners with iterables(lists)\"\n",
        "#Example1\n",
        "input_list = [1, 2, 3, 4, 4, 5, 6, 7, 7] \n",
        "  \n",
        "output_list = [] \n",
        "  \n",
        "# Using loop for constructing output list \n",
        "for var in input_list: \n",
        "    if var % 2 == 0: \n",
        "        output_list.append(var) \n",
        "  \n",
        "print(\"Output List using for loop:\", output_list)\n",
        "#Using list comprehension\n",
        "input_list = [1, 2, 3, 4, 4, 5, 6, 7, 7] \n",
        "  \n",
        "  \n",
        "list_using_comp = [var for var in input_list if var % 2 == 0] \n",
        "  \n",
        "print(\"Output List using list comprehensions:\", list_using_comp)\n",
        "\n",
        "\n",
        "#Example2\n",
        "#Using for loop\n",
        "output_list = [] \n",
        "for var in range(1, 10): \n",
        "    output_list.append(var ** 2) \n",
        "      \n",
        "print(\"Output List using for loop:\", output_list)\n",
        "#Using list comprehension\n",
        "list_using_comp = [var**2 for var in range(1, 10)] \n",
        "  \n",
        "print(\"Output List using list comprehension:\",list_using_comp)"
      ],
      "execution_count": null,
      "outputs": [
        {
          "output_type": "stream",
          "text": [
            "Output List using for loop: [2, 4, 4, 6]\n",
            "Output List using list comprehensions: [2, 4, 4, 6]\n",
            "Output List using for loop: [1, 4, 9, 16, 25, 36, 49, 64, 81]\n",
            "Output List using list comprehension: [1, 4, 9, 16, 25, 36, 49, 64, 81]\n"
          ],
          "name": "stdout"
        }
      ]
    },
    {
      "cell_type": "code",
      "metadata": {
        "id": "DLJCmg2fiQfY",
        "outputId": "db461bda-2942-4331-c739-ee3ea53aad3f",
        "colab": {
          "base_uri": "https://localhost:8080/"
        }
      },
      "source": [
        "#Q3\n",
        "num=int(input())\n",
        "d=dict()\n",
        "for x in range(1,num+1):\n",
        "    d[x]=x**2\n",
        "print(d)"
      ],
      "execution_count": null,
      "outputs": [
        {
          "output_type": "stream",
          "text": [
            "5\n",
            "{1: 1, 2: 4, 3: 9, 4: 16, 5: 25}\n"
          ],
          "name": "stdout"
        }
      ]
    },
    {
      "cell_type": "code",
      "metadata": {
        "id": "JiKrgvyeiS79",
        "outputId": "73d514e7-e336-4dc7-f99e-e227432f3eaf",
        "colab": {
          "base_uri": "https://localhost:8080/"
        }
      },
      "source": [
        "\n",
        "#Q4\n",
        "x=0\n",
        "y=0\n",
        "n = int(input())\n",
        "\n",
        "for i in range(n):\n",
        "    direction = input().split(' ')  \n",
        "    \n",
        "    if direction[0].upper() == \"UP\":\n",
        "        y += int(direction[1])\n",
        "    elif direction[0].upper() == \"RIGHT\":\n",
        "        x += int(direction[1])\n",
        "    elif direction[0].upper() == \"DOWN\":\n",
        "        y -= int(direction[1])\n",
        "    elif direction[0].upper() == \"LEFT\":\n",
        "        x -= int(direction[1])\n",
        "    else:\n",
        "        print(\"Invalid Input\")    \n",
        "pos = float((x**2+y**2)**0.5)\n",
        "print(round(pos))"
      ],
      "execution_count": null,
      "outputs": [
        {
          "output_type": "stream",
          "text": [
            "4\n",
            "UP 10\n",
            "DOWN 10\n",
            "RIGHT 5\n",
            "LEFT 2\n",
            "3\n"
          ],
          "name": "stdout"
        }
      ]
    }
  ]
}