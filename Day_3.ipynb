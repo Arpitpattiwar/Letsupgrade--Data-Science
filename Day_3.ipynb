{
  "nbformat": 4,
  "nbformat_minor": 0,
  "metadata": {
    "colab": {
      "name": "Day 3",
      "provenance": [],
      "collapsed_sections": [],
      "authorship_tag": "ABX9TyO++HtMLtrCo9l1g/bR1jL9",
      "include_colab_link": true
    },
    "kernelspec": {
      "name": "python3",
      "display_name": "Python 3"
    }
  },
  "cells": [
    {
      "cell_type": "markdown",
      "metadata": {
        "id": "view-in-github",
        "colab_type": "text"
      },
      "source": [
        "<a href=\"https://colab.research.google.com/github/Arpitpattiwar/Letsupgrade--Data-Science/blob/main/Day_3.ipynb\" target=\"_parent\"><img src=\"https://colab.research.google.com/assets/colab-badge.svg\" alt=\"Open In Colab\"/></a>"
      ]
    },
    {
      "cell_type": "code",
      "metadata": {
        "id": "SUEOOO60ivaM",
        "outputId": "5dd50bd6-5eca-460d-99e3-6feecaa161d3",
        "colab": {
          "base_uri": "https://localhost:8080/"
        }
      },
      "source": [
        "#Q1\n",
        "import numpy as np \n",
        "print(np.arange(2, 50, 3))"
      ],
      "execution_count": null,
      "outputs": [
        {
          "output_type": "stream",
          "text": [
            "[ 2  5  8 11 14 17 20 23 26 29 32 35 38 41 44 47]\n"
          ],
          "name": "stdout"
        }
      ]
    },
    {
      "cell_type": "code",
      "metadata": {
        "id": "CCBh4csFi028",
        "outputId": "e945fdbe-58ff-430a-99b9-d40a9db75074",
        "colab": {
          "base_uri": "https://localhost:8080/"
        }
      },
      "source": [
        "#Q2\n",
        "import numpy as np\n",
        "lst1 = [] \n",
        "lst2=[]  \n",
        "n = 5\n",
        "for i in range(0, n): \n",
        "    ele = int(input()) \n",
        "    lst1.append(ele) \n",
        "print(\"List1 : \",lst1)\n",
        "\n",
        "for j in range(0, n): \n",
        "    ele2 = int(input())   \n",
        "    lst2.append(ele2) \n",
        "print(\"List2 : \",lst2)\n",
        "\n",
        "\n",
        "import numpy \n",
        "\n",
        "arr = numpy.array(lst1)\n",
        "\n",
        "print (\"List1: \", lst1)\n",
        "\n",
        "print (\"Array: \", arr)\n",
        "\n",
        "Array = numpy.array(lst2)\n",
        "\n",
        "print (\"List1: \", lst2)\n",
        "\n",
        "print (\"Array: \", Array)\n",
        "arr=np.array(lst1)\n",
        "Array=np.array(lst2)\n",
        "print(\"Concatenated array\")\n",
        "print(np.concatenate((arr, Array), axis=None))\n",
        "\n",
        "print(\"Sorted array of lst1\")\n",
        "lst1.sort()\n",
        "print(lst1)\n",
        "print(\"Sorted array of lst2\")\n",
        "lst2.sort()\n",
        "print(lst2)"
      ],
      "execution_count": null,
      "outputs": [
        {
          "output_type": "stream",
          "text": [
            "4\n",
            "23\n",
            "66\n",
            "18\n",
            "93\n",
            "List1 :  [4, 23, 66, 18, 93]\n",
            "67\n",
            "32\n",
            "09\n",
            "13\n",
            "84\n",
            "List2 :  [67, 32, 9, 13, 84]\n",
            "List1:  [4, 23, 66, 18, 93]\n",
            "Array:  [ 4 23 66 18 93]\n",
            "List1:  [67, 32, 9, 13, 84]\n",
            "Array:  [67 32  9 13 84]\n",
            "Concatenated array\n",
            "[ 4 23 66 18 93 67 32  9 13 84]\n",
            "Sorted array of lst1\n",
            "[4, 18, 23, 66, 93]\n",
            "Sorted array of lst2\n",
            "[9, 13, 32, 67, 84]\n"
          ],
          "name": "stdout"
        }
      ]
    },
    {
      "cell_type": "code",
      "metadata": {
        "id": "4n6X70kXi8aw",
        "outputId": "9723f213-91d3-4277-afd2-5459b6fd2f03",
        "colab": {
          "base_uri": "https://localhost:8080/"
        }
      },
      "source": [
        "#Q3\n",
        "import numpy as np\n",
        "arr = np.array( [[ 1, 2, 3],\n",
        "                 [ 4, 2, 5]] )\n",
        "print(\"No. of dimensions: \", arr.ndim)\n",
        "print(\"Size of array: \", arr.size)"
      ],
      "execution_count": null,
      "outputs": [
        {
          "output_type": "stream",
          "text": [
            "No. of dimensions:  2\n",
            "Size of array:  6\n"
          ],
          "name": "stdout"
        }
      ]
    },
    {
      "cell_type": "code",
      "metadata": {
        "id": "SOWUsVn4i_Iw",
        "outputId": "3cad2662-4c35-47fe-a08d-8ad9ee3e7420",
        "colab": {
          "base_uri": "https://localhost:8080/"
        }
      },
      "source": [
        "#Q4\n",
        ">>> a = np.array([1, 2, 3, 4, 5, 6])\n",
        ">>> a.shape\n",
        "(6,)\n",
        ">>> a2 = a[np.newaxis, :]\n",
        ">>> a2.shape\n",
        "(1, 6)\n",
        "print(a)\n",
        ">>> a = np.array([1, 2, 3, 4, 5, 6])\n",
        ">>> a.shape\n",
        "(6,)\n",
        ">>> b = np.expand_dims(a, axis=1)\n",
        ">>> b.shape\n",
        "(6, 1)\n",
        "print(b)"
      ],
      "execution_count": null,
      "outputs": [
        {
          "output_type": "stream",
          "text": [
            "[1 2 3 4 5 6]\n",
            "[[1]\n",
            " [2]\n",
            " [3]\n",
            " [4]\n",
            " [5]\n",
            " [6]]\n"
          ],
          "name": "stdout"
        }
      ]
    },
    {
      "cell_type": "code",
      "metadata": {
        "id": "VemSUfATjBW4",
        "outputId": "c7fe9c5f-5898-4b78-e20c-8ecf310c47de",
        "colab": {
          "base_uri": "https://localhost:8080/"
        }
      },
      "source": [
        "#Q5\n",
        "import numpy as np \n",
        "  \n",
        "a = np.array([[1, 2], \n",
        "              [3, 4]]) \n",
        "  \n",
        "b = np.array([[5, 6], \n",
        "              [7, 8]]) \n",
        "  \n",
        "# vertical stacking \n",
        "print(\"Vertical stacking:\\n\", np.vstack((a, b))) \n",
        "  \n",
        "# horizontal stacking \n",
        "print(\"\\nHorizontal stacking:\\n\", np.hstack((a, b)))"
      ],
      "execution_count": null,
      "outputs": [
        {
          "output_type": "stream",
          "text": [
            "Vertical stacking:\n",
            " [[1 2]\n",
            " [3 4]\n",
            " [5 6]\n",
            " [7 8]]\n",
            "\n",
            "Horizontal stacking:\n",
            " [[1 2 5 6]\n",
            " [3 4 7 8]]\n"
          ],
          "name": "stdout"
        }
      ]
    },
    {
      "cell_type": "code",
      "metadata": {
        "id": "t4kbxjiFjDgH",
        "outputId": "a3ea94a5-0b13-4c79-f863-6a703f9229a2",
        "colab": {
          "base_uri": "https://localhost:8080/"
        }
      },
      "source": [
        "\n",
        "#Q6\n",
        "input_list = [1, 2, 2, 5, 8, 4, 4, 8] \n",
        "l1 = []  \n",
        "count = 0 \n",
        "for item in input_list: \n",
        "    if item not in l1: \n",
        "        count += 1\n",
        "        l1.append(item)\n",
        "print(\"No of unique items are:\", count)\n",
        "\n",
        "def unique(input_list): \n",
        "    list_set = set(input_list) \n",
        "    unique_list = list(list_set) \n",
        "    for x in unique_list: \n",
        "        print (x)\n",
        "print(\"Unique items are:\")\n",
        "unique(input_list)"
      ],
      "execution_count": null,
      "outputs": [
        {
          "output_type": "stream",
          "text": [
            "No of unique items are: 5\n",
            "Unique items are:\n",
            "1\n",
            "2\n",
            "4\n",
            "5\n",
            "8\n"
          ],
          "name": "stdout"
        }
      ]
    }
  ]
}