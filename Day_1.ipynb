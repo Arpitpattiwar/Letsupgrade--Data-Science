{
  "nbformat": 4,
  "nbformat_minor": 0,
  "metadata": {
    "colab": {
      "name": "Day 1",
      "provenance": [],
      "collapsed_sections": [],
      "authorship_tag": "ABX9TyMedIpZGKZAHuUfYZijBwrd",
      "include_colab_link": true
    },
    "kernelspec": {
      "name": "python3",
      "display_name": "Python 3"
    }
  },
  "cells": [
    {
      "cell_type": "markdown",
      "metadata": {
        "id": "view-in-github",
        "colab_type": "text"
      },
      "source": [
        "<a href=\"https://colab.research.google.com/github/Arpitpattiwar/Letsupgrade--Data-Science/blob/main/Day_1.ipynb\" target=\"_parent\"><img src=\"https://colab.research.google.com/assets/colab-badge.svg\" alt=\"Open In Colab\"/></a>"
      ]
    },
    {
      "cell_type": "code",
      "metadata": {
        "id": "FT9W-KcRhj4_"
      },
      "source": [
        "#Q1\n",
        "B)RAINBOW"
      ],
      "execution_count": null,
      "outputs": []
    },
    {
      "cell_type": "code",
      "metadata": {
        "id": "2VQyoBMShqeb",
        "outputId": "ebdf5a19-329d-4f34-f55a-aa9060f93dc0",
        "colab": {
          "base_uri": "https://localhost:8080/"
        }
      },
      "source": [
        "#Q2\n",
        "a=\"LETSUPGRADE\"\n",
        "print(a)"
      ],
      "execution_count": null,
      "outputs": [
        {
          "output_type": "stream",
          "text": [
            "LETSUPGRADE\n"
          ],
          "name": "stdout"
        }
      ]
    },
    {
      "cell_type": "code",
      "metadata": {
        "id": "xTUBtP9VhtSI",
        "outputId": "92230cd4-7b7f-4004-8855-04532237c01c",
        "colab": {
          "base_uri": "https://localhost:8080/"
        }
      },
      "source": [
        "#Q3\n",
        "CP=float(input())\n",
        "SP=float(input())\n",
        "if SP-CP>0:\n",
        "  print(\"Profit\")\n",
        "elif SP-CP<0:\n",
        "  print(\"Loss\")\n",
        "else:\n",
        "  print(\"Neither\")"
      ],
      "execution_count": null,
      "outputs": [
        {
          "output_type": "stream",
          "text": [
            "345\n",
            "300\n",
            "Loss\n"
          ],
          "name": "stdout"
        }
      ]
    },
    {
      "cell_type": "code",
      "metadata": {
        "id": "dTLIBoqEhve_",
        "outputId": "e29fd57d-cd47-4e3c-848a-5b474fb595a2",
        "colab": {
          "base_uri": "https://localhost:8080/"
        }
      },
      "source": [
        "#Q4\n",
        "Amt_in_euro=input()\n",
        "Amt_in_Rupees=int(Amt_in_euro)*80\n",
        "print(Amt_in_Rupees)"
      ],
      "execution_count": null,
      "outputs": [
        {
          "output_type": "stream",
          "text": [
            "40\n",
            "3200\n"
          ],
          "name": "stdout"
        }
      ]
    }
  ]
}